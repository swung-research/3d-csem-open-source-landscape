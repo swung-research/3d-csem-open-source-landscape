{
 "cells": [
  {
   "cell_type": "markdown",
   "metadata": {},
   "source": [
    "# Block Model using `emg3d`\n",
    "\n",
    "### Note regarding runtime\n",
    "\n",
    "The following environment variables were set before starting Jupyter:\n",
    "```\n",
    "export OMP_NUM_THREADS=1\n",
    "export MKL_NUM_THREADS=1\n",
    "export OPENBLAS_NUM_THREADS=1\n",
    "```\n",
    "This ensures that our code runs only on one thread. CPU-time is therefore the same as walltime (or even a tiny fraction smaller)."
   ]
  },
  {
   "cell_type": "code",
   "execution_count": 1,
   "metadata": {
    "nbpresent": {
     "id": "4cf9c8a2-cf5f-45cd-b5da-0b1c7fe23108"
    }
   },
   "outputs": [],
   "source": [
    "import emg3d\n",
    "import numpy as np\n",
    "import xarray as xr\n",
    "from datetime import datetime\n",
    "%load_ext memory_profiler"
   ]
  },
  {
   "cell_type": "markdown",
   "metadata": {},
   "source": [
    "## Load model and survey"
   ]
  },
  {
   "cell_type": "code",
   "execution_count": 2,
   "metadata": {},
   "outputs": [],
   "source": [
    "ds = xr.load_dataset('../block_model_and_survey.nc', engine='h5netcdf')"
   ]
  },
  {
   "cell_type": "markdown",
   "metadata": {},
   "source": [
    "### Extract required info"
   ]
  },
  {
   "cell_type": "code",
   "execution_count": 3,
   "metadata": {},
   "outputs": [],
   "source": [
    "# Get Mesh of Input model.\n",
    "input_mesh = emg3d.TensorMesh(\n",
    "    h=[ds.attrs['hx'], ds.attrs['hy'], ds.attrs['hz']],\n",
    "    origin=ds.attrs['x0'],\n",
    ")\n",
    "\n",
    "# Create Input model.\n",
    "input_model = emg3d.Model(\n",
    "    grid=input_mesh,\n",
    "    property_x=ds.attrs['resh_tg'],\n",
    "    property_z=ds.attrs['resv_tg'],\n",
    "    mapping='Resistivity',\n",
    ")\n",
    "\n",
    "# Get Survey\n",
    "src = ds.attrs['src']\n",
    "strength = ds.attrs['strength']\n",
    "freq = ds.attrs['freq']\n",
    "rec_x = ds.x.data[::2]\n",
    "rec_y = ds.attrs['rec_y']\n",
    "rec_z = ds.attrs['rec_z']\n",
    "\n",
    "# Get source center (for meshing)\n",
    "src_c = np.mean(src.reshape(-1, 2), 1)"
   ]
  },
  {
   "cell_type": "markdown",
   "metadata": {},
   "source": [
    "## Computation mesh"
   ]
  },
  {
   "cell_type": "code",
   "execution_count": 4,
   "metadata": {},
   "outputs": [
    {
     "data": {
      "text/html": [
       "<table>\n",
       "  <tr>\n",
       "    <td style='font-weight: bold; font-size: 1.2em; text-align: center;' colspan='3'>TensorMesh</td>\n",
       "    <td style='font-size: 1.2em; text-align: center;'colspan='4'>1,966,080 cells</td>\n",
       "  </tr>\n",
       "  <tr>\n",
       "    <th></th>\n",
       "    <th></th>\n",
       "    <th colspan='2' style='padding: 5px 20px 5px 20px;'>MESH EXTENT</th>\n",
       "    <th colspan='2' style='padding: 5px 20px 5px 20px;'>CELL WIDTH</th>\n",
       "    <th style='padding: 5px 20px 5px 20px;'>FACTOR</th>\n",
       "  </tr>\n",
       "  <tr>\n",
       "    <th style='padding: 5px 20px 5px 20px;'>dir</th>\n",
       "    <th style='padding: 5px 20px 5px 20px;'>nC</th>\n",
       "    <th style='padding: 5px 20px 5px 20px;'>min</th>\n",
       "    <th style='padding: 5px 20px 5px 20px;'>max</th>\n",
       "    <th style='padding: 5px 20px 5px 20px;'>min</th>\n",
       "    <th style='padding: 5px 20px 5px 20px;'>max</th>\n",
       "    <th style='padding: 5px 20px 5px 20px;'>max</th>\n",
       "  </tr>\n",
       "  <tr>\n",
       "    <td style='padding: 5px 20px 5px 20px;'>x</td>\n",
       "    <td style='padding: 5px 20px 5px 20px;'>256</td>\n",
       "    <td style='padding: 5px 20px 5px 20px;'>-50,477.04</td>\n",
       "    <td style='padding: 5px 20px 5px 20px;'>50,477.04</td>\n",
       "    <td style='padding: 5px 20px 5px 20px;'>25.00</td>\n",
       "    <td style='padding: 5px 20px 5px 20px;'>6,886.06</td>\n",
       "    <td style='padding: 5px 20px 5px 20px;'>2.00</td>\n",
       "  </tr>\n",
       "  <tr>\n",
       "    <td style='padding: 5px 20px 5px 20px;'>y</td>\n",
       "    <td style='padding: 5px 20px 5px 20px;'>80</td>\n",
       "    <td style='padding: 5px 20px 5px 20px;'>-48,880.68</td>\n",
       "    <td style='padding: 5px 20px 5px 20px;'>48,880.68</td>\n",
       "    <td style='padding: 5px 20px 5px 20px;'>25.00</td>\n",
       "    <td style='padding: 5px 20px 5px 20px;'>12,410.19</td>\n",
       "    <td style='padding: 5px 20px 5px 20px;'>8.00</td>\n",
       "  </tr>\n",
       "  <tr>\n",
       "    <td style='padding: 5px 20px 5px 20px;'>z</td>\n",
       "    <td style='padding: 5px 20px 5px 20px;'>96</td>\n",
       "    <td style='padding: 5px 20px 5px 20px;'>-33,861.37</td>\n",
       "    <td style='padding: 5px 20px 5px 20px;'>61,637.16</td>\n",
       "    <td style='padding: 5px 20px 5px 20px;'>50.00</td>\n",
       "    <td style='padding: 5px 20px 5px 20px;'>18,086.24</td>\n",
       "    <td style='padding: 5px 20px 5px 20px;'>1.41</td>\n",
       "  </tr>\n",
       "</table>\n"
      ],
      "text/plain": [
       "\n",
       "  TensorMesh: 1,966,080 cells\n",
       "\n",
       "                      MESH EXTENT             CELL WIDTH      FACTOR\n",
       "  dir    nC        min           max         min       max      max\n",
       "  ---   ---  ---------------------------  ------------------  ------\n",
       "   x    256    -50,477.04     50,477.04     25.00  6,886.06    2.00\n",
       "   y     80    -48,880.68     48,880.68     25.00 12,410.19    8.00\n",
       "   z     96    -33,861.37     61,637.16     50.00 18,086.24    1.41\n"
      ]
     },
     "execution_count": 4,
     "metadata": {},
     "output_type": "execute_result"
    }
   ],
   "source": [
    "mesh = emg3d.construct_mesh(\n",
    "    frequency=freq,\n",
    "    properties=[0.3, 1000, 100, 1000],\n",
    "    center=[0, 0, 0],\n",
    "    # domain=[[-10050, 10050], [-4000, 4000], [-3150, 0]],\n",
    "    domain=[[-10450, 10450], [-5400, 5400], [-3150, 0]],\n",
    "    min_width_limits=[100, 200, 50],\n",
    "    max_buffer=50000,\n",
    "    lambda_from_center=True,\n",
    ")\n",
    "\n",
    "# Refine x around source\n",
    "mesh.h[0][122:124] = 50\n",
    "mesh.h[0][124:-124] = 25\n",
    "mesh.h[0][-124:-122] = 50\n",
    "mesh.origin[0] += 400\n",
    "\n",
    "# Refine y around source\n",
    "mesh.h[1][32:-32] = 25\n",
    "mesh.origin[1] += 1400\n",
    "\n",
    "mesh = emg3d.TensorMesh(mesh.h, mesh.origin)\n",
    "mesh"
   ]
  },
  {
   "cell_type": "code",
   "execution_count": 5,
   "metadata": {},
   "outputs": [],
   "source": [
    "# Interpolate to computational mesh\n",
    "model = input_model.interpolate_to_grid(mesh)"
   ]
  },
  {
   "cell_type": "markdown",
   "metadata": {},
   "source": [
    "## `emg3d` computation"
   ]
  },
  {
   "cell_type": "code",
   "execution_count": 6,
   "metadata": {},
   "outputs": [],
   "source": [
    "# Source field\n",
    "sfield = emg3d.fields.get_source_field(mesh, src, freq, strength=strength)"
   ]
  },
  {
   "cell_type": "code",
   "execution_count": 7,
   "metadata": {},
   "outputs": [
    {
     "name": "stdout",
     "output_type": "stream",
     "text": [
      "\n",
      ":: emg3d START :: 10:02:21 :: v1.2.1\n",
      "\n",
      "   MG-cycle       : 'F'                 sslsolver : False\n",
      "   semicoarsening : True [1 2 3]        tol       : 1e-06\n",
      "   linerelaxation : True [4 5 6]        maxit     : 50\n",
      "   nu_{i,1,c,2}   : 0, 2, 1, 2          verb      : 4\n",
      "   Original grid  : 256 x  80 x  96     => 1,966,080 cells\n",
      "   Coarsest grid  :   2 x   5 x   3     => 30 cells\n",
      "   Coarsest level :   7 ;   4 ;   5   \n",
      "\n",
      "   [hh:mm:ss]  rel. error                  [abs. error, last/prev]   l s\n",
      "\n",
      "       h_\n",
      "      2h_ \\                            /\n",
      "      4h_  \\                  /\\      / \n",
      "      8h_   \\          /\\    /  \\    /  \n",
      "     16h_    \\    /\\  /  \\  /    \\  /   \n",
      "     32h_     \\/\\/  \\/    \\/      \\/    \n",
      "\n",
      "   [10:02:58]   1.449e-02  after   1 F-cycles   [6.474e-03, 0.014]   4 1\n",
      "   [10:03:30]   1.535e-03  after   2 F-cycles   [6.855e-04, 0.106]   5 2\n",
      "   [10:03:59]   5.646e-04  after   3 F-cycles   [2.522e-04, 0.368]   6 3\n",
      "   [10:04:31]   4.427e-05  after   4 F-cycles   [1.977e-05, 0.078]   4 1\n",
      "   [10:05:01]   7.226e-06  after   5 F-cycles   [3.227e-06, 0.163]   5 2\n",
      "   [10:05:38]   3.032e-06  after   6 F-cycles   [1.354e-06, 0.420]   6 3\n",
      "   [10:06:12]   7.872e-07  after   7 F-cycles   [3.516e-07, 0.260]   4 1\n",
      "\n",
      "   > CONVERGED\n",
      "   > MG cycles        : 7\n",
      "   > Final rel. error : 7.872e-07\n",
      "\n",
      ":: emg3d END   :: 10:06:12 :: runtime = 0:03:51\n",
      "\n",
      "peak memory: 951.33 MiB, increment: 477.78 MiB\n",
      "memory usage: 0.467 GiB\n"
     ]
    }
   ],
   "source": [
    "options = {'sslsolver': False, 'return_info': True}\n",
    "mem = %memit -o efield, info = emg3d.solve(model, sfield, verb=4, **options)\n",
    "time = f\"{info['time']:.0f} s\"\n",
    "ram = f\"{(mem.mem_usage[0] - mem.baseline)/1024:.3f} GiB\"\n",
    "print(f\"memory usage: {ram}\")"
   ]
  },
  {
   "cell_type": "code",
   "execution_count": 8,
   "metadata": {},
   "outputs": [],
   "source": [
    "# Extract (interpolate) Ex-field at receiver locations from the emg3d result.\n",
    "egd = np.zeros((rec_x.size, 3), dtype=complex)\n",
    "for i, y in enumerate(rec_y):\n",
    "    egd[:, i] = efield.get_receiver((rec_x, y, rec_z, 0, 0))"
   ]
  },
  {
   "cell_type": "markdown",
   "metadata": {},
   "source": [
    "## Save data"
   ]
  },
  {
   "cell_type": "code",
   "execution_count": 9,
   "metadata": {},
   "outputs": [],
   "source": [
    "# Save the three lines\n",
    "ds.line_1.data = np.vstack([egd[:, 0].real, egd[:, 0].imag]).ravel('F')\n",
    "ds.line_2.data = np.vstack([egd[:, 1].real, egd[:, 1].imag]).ravel('F')\n",
    "ds.line_3.data = np.vstack([egd[:, 2].real, egd[:, 2].imag]).ravel('F')\n",
    "\n",
    "# Add info\n",
    "ds.attrs['runtime'] = time\n",
    "ds.attrs['n_procs'] = 1\n",
    "ds.attrs['max_ram'] = ram\n",
    "ds.attrs['n_cells'] = f\"({mesh.shape_cells[0]} x {mesh.shape_cells[1]} x {mesh.shape_cells[2]}) - {mesh.n_cells}\"\n",
    "ds.attrs['n_nodes'] = 'N/A'\n",
    "ds.attrs['n_dof'] = mesh.n_edges\n",
    "ds.attrs['extent'] = (f\"x = {mesh.nodes_x[0]:.1f}-{mesh.nodes_x[-1]:.1f}; \" # Total mesh extent\n",
    "                      f\"y = {mesh.nodes_y[0]:.1f}-{mesh.nodes_y[-1]:.1f}; \"\n",
    "                      f\"z = {mesh.nodes_z[0]:.1f}-{mesh.nodes_z[-1]:.1f}\")\n",
    "ds.attrs['min_vol'] = f\"{np.min(mesh.cell_volumes):.1f}\"\n",
    "ds.attrs['max_vol'] = f\"{np.max(mesh.cell_volumes):.1f}\"\n",
    "ds.attrs['machine'] = \"Laptop; i7-6600U CPU@2.6 GHz x4; 15.5 GiB of memory, Ubuntu 20.04\"\n",
    "ds.attrs['version'] = f\"emg3d v{emg3d.__version__}\"\n",
    "ds.attrs['date'] = datetime.today().isoformat()\n",
    "\n",
    "# Save it under <{model}_{code}.nc>\n",
    "ds.to_netcdf(f\"../results/block_emg3d.nc\", engine='h5netcdf')"
   ]
  },
  {
   "cell_type": "code",
   "execution_count": 10,
   "metadata": {},
   "outputs": [
    {
     "data": {
      "text/html": [
       "<table style='border: 3px solid #ddd;'>\n",
       "  <tr>\n",
       "     <td style='text-align: center; font-weight: bold; font-size: 1.2em; border: 2px solid #fff;' colspan='6'>Fri Sep 24 10:06:13 2021 CEST</td>\n",
       "  </tr>\n",
       "  <tr>\n",
       "    <td style='text-align: right; background-color: #ccc; border: 2px solid #fff;'>OS</td>\n",
       "    <td style='text-align: left; border: 2px solid #fff;'>Linux</td>\n",
       "    <td style='text-align: right; background-color: #ccc; border: 2px solid #fff;'>CPU(s)</td>\n",
       "    <td style='text-align: left; border: 2px solid #fff;'>4</td>\n",
       "    <td style='text-align: right; background-color: #ccc; border: 2px solid #fff;'>Machine</td>\n",
       "    <td style='text-align: left; border: 2px solid #fff;'>x86_64</td>\n",
       "  </tr>\n",
       "  <tr>\n",
       "    <td style='text-align: right; background-color: #ccc; border: 2px solid #fff;'>Architecture</td>\n",
       "    <td style='text-align: left; border: 2px solid #fff;'>64bit</td>\n",
       "    <td style='text-align: right; background-color: #ccc; border: 2px solid #fff;'>RAM</td>\n",
       "    <td style='text-align: left; border: 2px solid #fff;'>15.5 GB</td>\n",
       "    <td style='text-align: right; background-color: #ccc; border: 2px solid #fff;'>Environment</td>\n",
       "    <td style='text-align: left; border: 2px solid #fff;'>Jupyter</td>\n",
       "  </tr>\n",
       "  <tr>\n",
       "     <td style='text-align: center; border: 2px solid #fff;' colspan='6'>Python 3.8.0 | packaged by conda-forge | (default, Nov 22 2019, 19:11:38) \n",
       "[GCC 7.3.0]</td>\n",
       "  </tr>\n",
       "  <tr>\n",
       "    <td style='text-align: right; background-color: #ccc; border: 2px solid #fff;'>numpy</td>\n",
       "    <td style='text-align: left; border: 2px solid #fff;'>1.20.3</td>\n",
       "    <td style='text-align: right; background-color: #ccc; border: 2px solid #fff;'>scipy</td>\n",
       "    <td style='text-align: left; border: 2px solid #fff;'>1.7.1</td>\n",
       "    <td style='text-align: right; background-color: #ccc; border: 2px solid #fff;'>numba</td>\n",
       "    <td style='text-align: left; border: 2px solid #fff;'>0.54.0</td>\n",
       "  </tr>\n",
       "  <tr>\n",
       "    <td style='text-align: right; background-color: #ccc; border: 2px solid #fff;'>emg3d</td>\n",
       "    <td style='text-align: left; border: 2px solid #fff;'>1.2.1</td>\n",
       "    <td style='text-align: right; background-color: #ccc; border: 2px solid #fff;'>empymod</td>\n",
       "    <td style='text-align: left; border: 2px solid #fff;'>2.1.2</td>\n",
       "    <td style='text-align: right; background-color: #ccc; border: 2px solid #fff;'>xarray</td>\n",
       "    <td style='text-align: left; border: 2px solid #fff;'>0.19.0</td>\n",
       "  </tr>\n",
       "  <tr>\n",
       "    <td style='text-align: right; background-color: #ccc; border: 2px solid #fff;'>discretize</td>\n",
       "    <td style='text-align: left; border: 2px solid #fff;'>0.7.0</td>\n",
       "    <td style='text-align: right; background-color: #ccc; border: 2px solid #fff;'>h5py</td>\n",
       "    <td style='text-align: left; border: 2px solid #fff;'>3.3.0</td>\n",
       "    <td style='text-align: right; background-color: #ccc; border: 2px solid #fff;'>matplotlib</td>\n",
       "    <td style='text-align: left; border: 2px solid #fff;'>3.4.3</td>\n",
       "  </tr>\n",
       "  <tr>\n",
       "    <td style='text-align: right; background-color: #ccc; border: 2px solid #fff;'>tqdm</td>\n",
       "    <td style='text-align: left; border: 2px solid #fff;'>4.62.3</td>\n",
       "    <td style='text-align: right; background-color: #ccc; border: 2px solid #fff;'>IPython</td>\n",
       "    <td style='text-align: left; border: 2px solid #fff;'>7.27.0</td>\n",
       "    <td style= border: 2px solid #fff;'></td>\n",
       "    <td style= border: 2px solid #fff;'></td>\n",
       "  </tr>\n",
       "  <tr>\n",
       "     <td style='text-align: center; background-color: #ddd;border: 2px solid #fff;' colspan='6'>Intel(R) Math Kernel Library Version 2020.0.4 Product Build 20200917 for Intel(R) 64 architecture applications</td>\n",
       "  </tr>\n",
       "</table>"
      ],
      "text/plain": [
       "\n",
       "--------------------------------------------------------------------------------\n",
       "  Date: Fri Sep 24 10:06:13 2021 CEST\n",
       "\n",
       "                OS : Linux\n",
       "            CPU(s) : 4\n",
       "           Machine : x86_64\n",
       "      Architecture : 64bit\n",
       "               RAM : 15.5 GB\n",
       "       Environment : Jupyter\n",
       "\n",
       "  Python 3.8.0 | packaged by conda-forge | (default, Nov 22 2019, 19:11:38)\n",
       "  [GCC 7.3.0]\n",
       "\n",
       "             numpy : 1.20.3\n",
       "             scipy : 1.7.1\n",
       "             numba : 0.54.0\n",
       "             emg3d : 1.2.1\n",
       "           empymod : 2.1.2\n",
       "            xarray : 0.19.0\n",
       "        discretize : 0.7.0\n",
       "              h5py : 3.3.0\n",
       "        matplotlib : 3.4.3\n",
       "              tqdm : 4.62.3\n",
       "           IPython : 7.27.0\n",
       "\n",
       "  Intel(R) Math Kernel Library Version 2020.0.4 Product Build 20200917 for\n",
       "  Intel(R) 64 architecture applications\n",
       "--------------------------------------------------------------------------------"
      ]
     },
     "execution_count": 10,
     "metadata": {},
     "output_type": "execute_result"
    }
   ],
   "source": [
    "emg3d.Report()"
   ]
  }
 ],
 "metadata": {
  "anaconda-cloud": {},
  "kernelspec": {
   "display_name": "csem",
   "language": "python",
   "name": "csem"
  },
  "language_info": {
   "codemirror_mode": {
    "name": "ipython",
    "version": 3
   },
   "file_extension": ".py",
   "mimetype": "text/x-python",
   "name": "python",
   "nbconvert_exporter": "python",
   "pygments_lexer": "ipython3",
   "version": "3.8.0"
  },
  "nbpresent": {
   "slides": {
    "2a1825bf-35ff-4370-b129-ba51addc5c69": {
     "id": "2a1825bf-35ff-4370-b129-ba51addc5c69",
     "prev": "3d6a47d5-4fff-46fe-b063-1afce739efbb",
     "regions": {
      "c651f707-58e0-4b88-b861-0c6608fca1d5": {
       "attrs": {
        "height": 0.8,
        "width": 0.8,
        "x": 0.1,
        "y": 0.1
       },
       "content": {
        "cell": "6900d774-2898-4efd-9798-78bc8f08d0da",
        "part": "whole"
       },
       "id": "c651f707-58e0-4b88-b861-0c6608fca1d5"
      }
     }
    },
    "3d6a47d5-4fff-46fe-b063-1afce739efbb": {
     "id": "3d6a47d5-4fff-46fe-b063-1afce739efbb",
     "prev": "aa9c2bcf-e54f-4714-946e-18921616a039",
     "regions": {
      "e461f359-4831-4693-84fe-480f6c1db14a": {
       "attrs": {
        "height": 0.8,
        "width": 0.8,
        "x": 0.1,
        "y": 0.1
       },
       "content": {
        "cell": "1a31a0e1-bcf6-452d-aabb-c48c94a9e85d",
        "part": "whole"
       },
       "id": "e461f359-4831-4693-84fe-480f6c1db14a"
      }
     }
    },
    "54253e19-21cb-4738-94f0-109d6bbb2bde": {
     "id": "54253e19-21cb-4738-94f0-109d6bbb2bde",
     "prev": "5f5302d2-4747-4c5a-a6c3-1d0fc8f7fb66",
     "regions": {
      "1735c9df-b5c2-40d7-b562-b869e4b966cd": {
       "attrs": {
        "height": 0.8,
        "width": 0.8,
        "x": 0.1,
        "y": 0.1
       },
       "content": {
        "cell": "f85d2094-6d09-4627-a0ab-7cab37ed3c9f",
        "part": "whole"
       },
       "id": "1735c9df-b5c2-40d7-b562-b869e4b966cd"
      }
     }
    },
    "5f5302d2-4747-4c5a-a6c3-1d0fc8f7fb66": {
     "id": "5f5302d2-4747-4c5a-a6c3-1d0fc8f7fb66",
     "prev": "fc333044-619d-44bd-8c7f-0a53dd4b220a",
     "regions": {
      "41618366-0a77-4f2d-9d9b-77ed062d6959": {
       "attrs": {
        "height": 0.8,
        "width": 0.8,
        "x": 0.1,
        "y": 0.1
       },
       "content": {
        "cell": "83e23522-1665-45d6-8bc0-869b981a0e66",
        "part": "whole"
       },
       "id": "41618366-0a77-4f2d-9d9b-77ed062d6959"
      }
     }
    },
    "aa9c2bcf-e54f-4714-946e-18921616a039": {
     "id": "aa9c2bcf-e54f-4714-946e-18921616a039",
     "prev": "54253e19-21cb-4738-94f0-109d6bbb2bde",
     "regions": {
      "1b48f280-81c6-4746-8fff-091d4b10b448": {
       "attrs": {
        "height": 0.8,
        "width": 0.8,
        "x": 0.1,
        "y": 0.1
       },
       "content": {
        "cell": "0631a68b-7d4d-4326-abff-8628f2004afc",
        "part": "whole"
       },
       "id": "1b48f280-81c6-4746-8fff-091d4b10b448"
      }
     }
    },
    "b5a49768-441a-449c-bbf3-d2a7febf0235": {
     "id": "b5a49768-441a-449c-bbf3-d2a7febf0235",
     "prev": null,
     "regions": {
      "7ae15b0a-8675-4544-8708-f2e95dda286f": {
       "attrs": {
        "height": 0.8,
        "width": 0.8,
        "x": 0.1,
        "y": 0.1
       },
       "content": {
        "cell": "4cf9c8a2-cf5f-45cd-b5da-0b1c7fe23108",
        "part": "whole"
       },
       "id": "7ae15b0a-8675-4544-8708-f2e95dda286f"
      }
     }
    },
    "bc930404-89e7-4fc9-a1f9-e9edc1f4d1d4": {
     "id": "bc930404-89e7-4fc9-a1f9-e9edc1f4d1d4",
     "prev": "2a1825bf-35ff-4370-b129-ba51addc5c69",
     "regions": {
      "76296bab-9070-4528-b79c-558debc8f675": {
       "attrs": {
        "height": 0.8,
        "width": 0.8,
        "x": 0.1,
        "y": 0.1
       },
       "content": {
        "cell": "3ac01b43-1f53-4902-a857-5a0b0a6ef59b",
        "part": "whole"
       },
       "id": "76296bab-9070-4528-b79c-558debc8f675"
      }
     }
    },
    "fc333044-619d-44bd-8c7f-0a53dd4b220a": {
     "id": "fc333044-619d-44bd-8c7f-0a53dd4b220a",
     "prev": "b5a49768-441a-449c-bbf3-d2a7febf0235",
     "regions": {
      "fea6658a-c555-450d-b33b-0e44fe7b1cf8": {
       "attrs": {
        "height": 0.8,
        "width": 0.8,
        "x": 0.1,
        "y": 0.1
       },
       "content": {
        "cell": "d0a7e487-d7b9-418c-810f-f12d33c88c85",
        "part": "whole"
       },
       "id": "fea6658a-c555-450d-b33b-0e44fe7b1cf8"
      }
     }
    }
   },
   "themes": {}
  }
 },
 "nbformat": 4,
 "nbformat_minor": 1
}
